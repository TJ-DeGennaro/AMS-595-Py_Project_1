{
 "cells": [
  {
   "cell_type": "markdown",
   "metadata": {
    "id": "xq__bChjD04e"
   },
   "source": [
    "# Python Assignment 1"
   ]
  },
  {
   "cell_type": "markdown",
   "metadata": {
    "id": "y7j2V0UDMYLG"
   },
   "source": [
    "⏱⏱⏱**Due: 10/20/2024 11:59:59 PM** ⏱⏱⏱\n",
    "\n",
    "Submit this notebook file and upload it to your git repo. Include a link to your git repo while submitting this file to Brightspace.\n",
    "\n",
    "You are not allowed to use chatgpt or any LLM in this assignment.\n",
    "Cooperation is allowed and encouraged; however, you must write up and submit your own work. If you cooperate with others, you must list their names here."
   ]
  },
  {
   "cell_type": "markdown",
   "metadata": {
    "id": "SUS30Ew9D04n"
   },
   "source": [
    "Total points: 100 (equivalent to 20 points after conversion)"
   ]
  },
  {
   "cell_type": "markdown",
   "metadata": {
    "id": "b_bgT3b2GYTB"
   },
   "source": [
    "## 0. Data Types, Structures, Indexing, and Slicing"
   ]
  },
  {
   "cell_type": "markdown",
   "metadata": {
    "id": "6yI1Jt57IwV2"
   },
   "source": [
    "Read the lecutre note as well as [this page](https://www.geeksforgeeks.org/mutable-vs-immutable-objects-in-python/) and [this page](https://www.geeksforgeeks.org/difference-between-shallow-and-deep-copy-of-a-class/). Complete the following questions.\n",
    "\n",
    "(5 points) Give some examples (at least 2) of mutable objects in Python.\n",
    "\n",
    "***Answer:***\n",
    "Sets-{1,2,3}, Lists-[1,2,3], Dictionaries \n",
    "\n",
    "---\n",
    "\n",
    "\n",
    "\n",
    "(5 points) Give some examples (at least 2) of immutable objects in Python.\n",
    "\n",
    "***Answer:***\n",
    "Tuples-(1,2,\"the\"), Strings-(\"This is a string\")\n",
    "\n",
    "---\n",
    "\n",
    "\n",
    "\n",
    "(10 points) State the differences between assignment, shallow copy, and deep copy. Any reasonable answer will get full credit.\n",
    "\n",
    "***Answer:***\n",
    "Shallow copy copies the nested objects, if you change the nested object then the shallow copy will get changed.\n",
    "Deep copy copies all the nested objects but if you change the nested object, this copy wont get affected, it stays independent. \n",
    "Assigment just takes the value that you set it equal to, it doesnt make a new object like deep and shallow, any change will affect the variable (assigment)\n",
    "\n",
    "---\n",
    "\n",
    "\n",
    "\n"
   ]
  },
  {
   "cell_type": "markdown",
   "metadata": {
    "id": "OA8DxcrrGqZD"
   },
   "source": [
    "(10 points) Using string methods find() and rfind(), find the index of the first digit (i.e. 0) and the index of the last digit (5) in the string below. Then, using string slicing, extract the number (i.e. 0.595595) from this string and convert the extracted value to a floating point number. Print out this float to the console."
   ]
  },
  {
   "cell_type": "code",
   "execution_count": 22,
   "metadata": {
    "id": "AUuFXXWqG4D3"
   },
   "outputs": [
    {
     "name": "stdout",
     "output_type": "stream",
     "text": [
      "The index of the first digit is: 43\n",
      "The index of the last digit is: 50\n",
      "0.595595\n"
     ]
    }
   ],
   "source": [
    "text = \"F-DGFDDSFGFD-CFDSHdstgfdfe: tfsd  aaa bdsf 0.595595 fdsgfdbc\";\n",
    "first = text.find('0') \n",
    "print(f\"The index of the first digit is: {first}\")\n",
    "last = text.rfind('5')\n",
    "print(f\"The index of the last digit is: {last}\")\n",
    "\n",
    "number = text[first:last + 1] #need to add 1 because this is going up to last but not including last\n",
    "float_point_num = float(number)\n",
    "print(float_point_num)"
   ]
  },
  {
   "cell_type": "markdown",
   "metadata": {
    "id": "cnCljYgpD04p"
   },
   "source": [
    "## 1. Conditional Statements\n",
    "\n",
    "(10 points)\n",
    "Translate the following MATLAB code into Python using `if-elif-else`.\n",
    "```\n",
    "n = input('Enter a number: ');\n",
    "\n",
    "switch n\n",
    "    case -1\n",
    "        disp('negative one')\n",
    "    case 0\n",
    "        disp('zero')\n",
    "    case 1\n",
    "        disp('positive one')\n",
    "    otherwise\n",
    "        disp('other value')\n",
    "end\n",
    "```"
   ]
  },
  {
   "cell_type": "code",
   "execution_count": 29,
   "metadata": {
    "id": "9d8vl5zjD04q"
   },
   "outputs": [
    {
     "name": "stdout",
     "output_type": "stream",
     "text": [
      "Enter a number: 6\n",
      "other value\n"
     ]
    }
   ],
   "source": [
    "n = int(input('Enter a number: ')) #have to make whatever you enter be a int otherwise it wont work\n",
    "if n == -1:\n",
    "    print('negative one')\n",
    "elif n == 0:\n",
    "    print('zero')\n",
    "elif n == 1:\n",
    "    print('positive one')\n",
    "else:\n",
    "    print('other value')"
   ]
  },
  {
   "cell_type": "markdown",
   "metadata": {
    "id": "sW9XiUPpD04s"
   },
   "source": [
    "## 2. While Loops\n",
    "\n",
    "(10 points) Write a Python program that calculates the factorial of a given number (you can assume an positive integer) using a while loop. Display the result to the console."
   ]
  },
  {
   "cell_type": "code",
   "execution_count": 31,
   "metadata": {
    "colab": {
     "base_uri": "https://localhost:8080/"
    },
    "id": "CRCERx8uD04t",
    "outputId": "1870b9d1-fe04-4ae7-e5ec-08ce640ce72e"
   },
   "outputs": [
    {
     "data": {
      "text/plain": [
       "355687428096000"
      ]
     },
     "execution_count": 31,
     "metadata": {},
     "output_type": "execute_result"
    }
   ],
   "source": [
    "def factorial(n): #need to use a function\n",
    "    m = 1 #start out m at one \n",
    "    while n>0: #while n is greater then 0 we do the following \n",
    "        m = m*n #multpily n and m together since we start with n, 17*1 is the new m, now 17*16 is new m, then 17*16*15 etc\n",
    "        n= n-1 #start at 17 and keep going down until 1\n",
    "    return m\n",
    "\n",
    "factorial(17)\n",
    "#factorial(13)\n",
    "\n",
    "\n",
    "\n",
    "# test cases\n",
    "# n = 17, Output: 355687428096000\n",
    "# n = 13, Output: 6227020800"
   ]
  },
  {
   "cell_type": "markdown",
   "metadata": {
    "id": "ZQ5SVMq6D04w"
   },
   "source": [
    "## 3. Functions\n",
    "\n",
    "(10 points) Write a function that determines if a number is prime."
   ]
  },
  {
   "cell_type": "code",
   "execution_count": 59,
   "metadata": {
    "colab": {
     "base_uri": "https://localhost:8080/"
    },
    "id": "6rGP5G3_D04x",
    "outputId": "00df2d17-b697-4146-968f-be4fa7cc3ba3"
   },
   "outputs": [
    {
     "name": "stdout",
     "output_type": "stream",
     "text": [
      "True\n",
      "False\n",
      "True\n"
     ]
    }
   ],
   "source": [
    "import math #this gives us the sqrt function \n",
    "def is_prime(n):\n",
    "    if n<=1: #edge case, if n is less than or equal 1 then its not prime \n",
    "        return False #use return over print so it only does it once \n",
    "    elif n == 2: #also edge case, if n is 2 then its prime\n",
    "        return True\n",
    "    elif n % 2 == 0: #there is no even prime numbers\n",
    "        return False\n",
    "    elif n > 2: #for all the other numbers \n",
    "        m = math.sqrt(n) #getting the sqrt of m, helps for the for part \n",
    "        for i in range(3, int(m) +1): #i loops from 3 to the sqrt of n, +1 makes sure we include m and we checked before 3\n",
    "            if n % i == 0: #part of loop, if n is divisble by any i then thats a factor so its not a prime \n",
    "                           #checks from 3 until the value of sqrt of n, use int for m to get rid of decmials \n",
    "                return False\n",
    "            return True\n",
    "\n",
    "\n",
    "\n",
    "\n",
    "# test cases\n",
    "print(is_prime(2))      # Output: True\n",
    "print(is_prime(10))     # Output: False\n",
    "print(is_prime(17))     # Output: True"
   ]
  },
  {
   "cell_type": "markdown",
   "metadata": {
    "id": "Z6qg-fpQD04u"
   },
   "source": [
    "## 4. List Comprehension\n",
    "\n",
    "(10 points) Write a Python function called `prime_factors` that takes a relatively small integer as input and returns a list of its distinct prime factors. The function should use list comprehension to generate the list of distinct prime factors. You may use the function is_prime() defined in Q3.\n"
   ]
  },
  {
   "cell_type": "code",
   "execution_count": 69,
   "metadata": {
    "colab": {
     "base_uri": "https://localhost:8080/"
    },
    "id": "2hSCjYlOD04v",
    "outputId": "1024d2e2-7d24-4e65-9529-e5a82d2a3211"
   },
   "outputs": [
    {
     "name": "stdout",
     "output_type": "stream",
     "text": [
      "[2, 3, 5]\n",
      "[2, 7]\n",
      "[2, 3, 11]\n",
      "[2, 29]\n"
     ]
    }
   ],
   "source": [
    "import math #this gives us the sqrt function \n",
    "def is_prime(n):\n",
    "    if n<=1: #edge case, if n is less than or equal 1 then its not prime \n",
    "        return False #use return over print so it only does it once \n",
    "    elif n == 2: #also edge case, if n is 2 then its prime\n",
    "        return True\n",
    "    elif n % 2 == 0: #there is no even prime numbers\n",
    "        return False\n",
    "    elif n > 2: #for all the other numbers \n",
    "        m = math.sqrt(n) #getting the sqrt of m, helps for the for part \n",
    "        for i in range(3, int(m) +1): #i loops from 3 to the sqrt of n, +1 makes sure we include m and we checked before 3\n",
    "            if n % i == 0: #part of loop, if n is divisble by any i then thats a factor so its not a prime \n",
    "                           #checks from 3 until the value of sqrt of n, use int for m to get rid of decmials \n",
    "                return False\n",
    "        return True #have to take this out of the if loop so it doesnt stop as soon as it hits one number, we have to check all\n",
    "\n",
    "def prime_factors(n):\n",
    "    return [i for i in range(1, n + 1) if n % i == 0 and is_prime(i)] \n",
    "    #this starts at i which is 1 and goes up to n+1 so it can include n, if n is divisible by i and i is a prime number\n",
    "    #then its a prime factor and since its in [], it will get added to a list with return \n",
    "    \n",
    "\n",
    "# test cases\n",
    "print(prime_factors(30))  # Output: [2, 3, 5]\n",
    "print(prime_factors(56))  # Output: [2, 7]\n",
    "print(prime_factors(198))  # Output: [2, 3, 11]\n",
    "print(prime_factors(464))  # Output: [2, 29]"
   ]
  },
  {
   "cell_type": "markdown",
   "metadata": {
    "id": "dw4kZZCiD040"
   },
   "source": [
    "## 5. Recursive Functions\n",
    "(25 points) Write a function that uses recursion to generate the $n$th row of the Pascal's triangle.\n",
    "```\n",
    "              1\n",
    "           1     1\n",
    "        1     2     1\n",
    "      1    3     3     1\n",
    "   1    4     6     4    1\n",
    "1     5    10    10    5    1\n",
    "...\n",
    "...\n",
    "...\n",
    "```"
   ]
  },
  {
   "cell_type": "code",
   "execution_count": 90,
   "metadata": {
    "colab": {
     "base_uri": "https://localhost:8080/"
    },
    "id": "V8QFB_gKD040",
    "outputId": "4946dc49-2061-4057-e65d-9f48af44dac9"
   },
   "outputs": [
    {
     "name": "stdout",
     "output_type": "stream",
     "text": [
      "[1, 5, 10, 10, 5, 1]\n"
     ]
    }
   ],
   "source": [
    "def pascal(n):\n",
    "    if n == 0: \n",
    "        return ('Error, there is no 0th row') #edge case\n",
    "    elif n == 1:\n",
    "        return [1] #edge case\n",
    "    elif n == 2:\n",
    "        return [1, 1]\n",
    "    previous_row = pascal(n-1) #this gets us the last row which we need due to how this triangle gets made\n",
    "    row = [1] #initilize our new row with 1 to follow the patter [1...]\n",
    "    for i in range(1, len(previous_row)): #now we get i, starting from 1 to the length of the previous row\n",
    "        row.append(previous_row[i - 1] + previous_row[i]) \n",
    "        #now we start the process by appending the last rows value before with the row we are currently on, for [1 3 3 1]\n",
    "        # i starts at 1, so [0] + [1] which becomes 1 + 3 = 4. then i = 2, [1] + [2] = 3 + 3 = 6\n",
    "        \n",
    "    row.append(1) #this ends the row with a 1\n",
    "    \n",
    "    return row #showing our final answer \n",
    "\n",
    "\n",
    "\n",
    "# test case\n",
    "print(pascal(6))  # output [1, 5, 10, 10, 5, 1]"
   ]
  },
  {
   "cell_type": "markdown",
   "metadata": {
    "id": "eZytgm0qD041"
   },
   "source": [
    "Rewrite the above function using only `while` or `for` loops instead of recursion."
   ]
  },
  {
   "cell_type": "code",
   "execution_count": 104,
   "metadata": {
    "colab": {
     "base_uri": "https://localhost:8080/"
    },
    "id": "UZ8f-akaD041",
    "outputId": "68ec5672-a40f-493f-e725-68b7471e76bc"
   },
   "outputs": [
    {
     "name": "stdout",
     "output_type": "stream",
     "text": [
      "[1, 5, 10, 10, 5, 1]\n"
     ]
    }
   ],
   "source": [
    "def pascal_by_loops(n):\n",
    "    if n == 0: \n",
    "        return ('Error, there is no 0th row') #edge case\n",
    "    elif n == 1:\n",
    "        return [1] #edge case\n",
    "    elif n == 2:\n",
    "        return [1, 1]\n",
    "    row = [1] #the first row gets started\n",
    "    for _ in range(1, n): #build the rows we need, use _ and not i because we have no use for i with this\n",
    "        n_row = [1] #making our new row with this\n",
    "        for i in range(1, len(row)): #this is what we use to add like before, i is from 1 to n\n",
    "            n_row.append(row[i-1] + row[i]) #adding the last rows from row, i=1 then [0] + [1] = 1 + 1 = 2\n",
    "        n_row.append(1) #making sure we end with 1\n",
    "        row = n_row #this updates the row to what we just made and start over\n",
    "    return row\n",
    "        \n",
    "        \n",
    "    \n",
    "\n",
    "\n",
    "\n",
    "print(pascal_by_loops(6))"
   ]
  },
  {
   "cell_type": "markdown",
   "metadata": {
    "id": "HvHD6QHzVo9I"
   },
   "source": [
    "\n",
    "\n",
    "---\n",
    "\n",
    "\n",
    "（5 points) good coding practice and properly submitting your work to GitHub."
   ]
  },
  {
   "cell_type": "code",
   "execution_count": null,
   "metadata": {},
   "outputs": [],
   "source": []
  }
 ],
 "metadata": {
  "anaconda-cloud": {},
  "colab": {
   "provenance": []
  },
  "kernelspec": {
   "display_name": "Python 3 (ipykernel)",
   "language": "python",
   "name": "python3"
  },
  "language_info": {
   "codemirror_mode": {
    "name": "ipython",
    "version": 3
   },
   "file_extension": ".py",
   "mimetype": "text/x-python",
   "name": "python",
   "nbconvert_exporter": "python",
   "pygments_lexer": "ipython3",
   "version": "3.10.9"
  }
 },
 "nbformat": 4,
 "nbformat_minor": 1
}
